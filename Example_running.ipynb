{
  "nbformat": 4,
  "nbformat_minor": 0,
  "metadata": {
    "colab": {
      "provenance": [],
      "authorship_tag": "ABX9TyMgNt2suCEG85vqkn1dzm/a",
      "include_colab_link": true
    },
    "kernelspec": {
      "name": "python3",
      "display_name": "Python 3"
    },
    "language_info": {
      "name": "python"
    }
  },
  "cells": [
    {
      "cell_type": "markdown",
      "metadata": {
        "id": "view-in-github",
        "colab_type": "text"
      },
      "source": [
        "<a href=\"https://colab.research.google.com/github/imj-github/Platform-Environment-Agent/blob/main/Example_running.ipynb\" target=\"_parent\"><img src=\"https://colab.research.google.com/assets/colab-badge.svg\" alt=\"Open In Colab\"/></a>"
      ]
    },
    {
      "cell_type": "code",
      "source": [
        "!git clone https://github.com/cycraig/gym-platform\n"
      ],
      "metadata": {
        "colab": {
          "base_uri": "https://localhost:8080/"
        },
        "id": "v4MPcXpqZWX2",
        "outputId": "83e05784-d5ef-48e2-86f6-97506766a0f9"
      },
      "execution_count": 1,
      "outputs": [
        {
          "output_type": "stream",
          "name": "stdout",
          "text": [
            "Cloning into 'gym-platform'...\n",
            "remote: Enumerating objects: 77, done.\u001b[K\n",
            "remote: Counting objects: 100% (5/5), done.\u001b[K\n",
            "remote: Total 77 (delta 4), reused 4 (delta 4), pack-reused 72\u001b[K\n",
            "Unpacking objects: 100% (77/77), 492.10 KiB | 2.54 MiB/s, done.\n"
          ]
        }
      ]
    },
    {
      "cell_type": "code",
      "source": [
        "!pip install -e 'gym-platform/[gym-platform]'"
      ],
      "metadata": {
        "colab": {
          "base_uri": "https://localhost:8080/"
        },
        "id": "aYQF10ZqkEgQ",
        "outputId": "ee27217f-1474-439a-d708-e6235542cf34"
      },
      "execution_count": 2,
      "outputs": [
        {
          "output_type": "stream",
          "name": "stdout",
          "text": [
            "Looking in indexes: https://pypi.org/simple, https://us-python.pkg.dev/colab-wheels/public/simple/\n",
            "Obtaining file:///content/gym-platform\n",
            "  Preparing metadata (setup.py) ... \u001b[?25l\u001b[?25hdone\n",
            "\u001b[33mWARNING: gym-platform 0.0.1 does not provide the extra 'gym-platform'\u001b[0m\u001b[33m\n",
            "\u001b[0mRequirement already satisfied: gym in /usr/local/lib/python3.8/dist-packages (from gym-platform==0.0.1) (0.25.2)\n",
            "Collecting pygame\n",
            "  Downloading pygame-2.2.0-cp38-cp38-manylinux_2_17_x86_64.manylinux2014_x86_64.whl (13.7 MB)\n",
            "\u001b[2K     \u001b[90m━━━━━━━━━━━━━━━━━━━━━━━━━━━━━━━━━━━━━━━━\u001b[0m \u001b[32m13.7/13.7 MB\u001b[0m \u001b[31m31.1 MB/s\u001b[0m eta \u001b[36m0:00:00\u001b[0m\n",
            "\u001b[?25hRequirement already satisfied: numpy in /usr/local/lib/python3.8/dist-packages (from gym-platform==0.0.1) (1.22.4)\n",
            "Requirement already satisfied: gym-notices>=0.0.4 in /usr/local/lib/python3.8/dist-packages (from gym->gym-platform==0.0.1) (0.0.8)\n",
            "Requirement already satisfied: cloudpickle>=1.2.0 in /usr/local/lib/python3.8/dist-packages (from gym->gym-platform==0.0.1) (2.2.1)\n",
            "Requirement already satisfied: importlib-metadata>=4.8.0 in /usr/local/lib/python3.8/dist-packages (from gym->gym-platform==0.0.1) (6.0.0)\n",
            "Requirement already satisfied: zipp>=0.5 in /usr/local/lib/python3.8/dist-packages (from importlib-metadata>=4.8.0->gym->gym-platform==0.0.1) (3.15.0)\n",
            "Installing collected packages: pygame, gym-platform\n",
            "  Running setup.py develop for gym-platform\n",
            "Successfully installed gym-platform-0.0.1 pygame-2.2.0\n"
          ]
        }
      ]
    },
    {
      "cell_type": "code",
      "execution_count": 3,
      "metadata": {
        "colab": {
          "base_uri": "https://localhost:8080/"
        },
        "id": "CZGy0gcJZJOh",
        "outputId": "014c0344-3922-401a-c736-377691e64353"
      },
      "outputs": [
        {
          "output_type": "stream",
          "name": "stdout",
          "text": [
            "Cloning into 'Platform-Environment-agent'...\n",
            "remote: Enumerating objects: 12, done.\u001b[K\n",
            "remote: Counting objects: 100% (12/12), done.\u001b[K\n",
            "remote: Compressing objects: 100% (9/9), done.\u001b[K\n",
            "remote: Total 12 (delta 0), reused 0 (delta 0), pack-reused 0\u001b[K\n",
            "Unpacking objects: 100% (12/12), 17.21 KiB | 2.46 MiB/s, done.\n"
          ]
        }
      ],
      "source": [
        "!git clone https://github.com/imj-github/Platform-Environment-agent.git"
      ]
    },
    {
      "cell_type": "code",
      "source": [
        "!pip install gym==0.10.5"
      ],
      "metadata": {
        "colab": {
          "base_uri": "https://localhost:8080/"
        },
        "id": "FXqeKKFbZWbN",
        "outputId": "b96a3021-2833-4511-c0db-3cc701b3d4a2"
      },
      "execution_count": 4,
      "outputs": [
        {
          "output_type": "stream",
          "name": "stdout",
          "text": [
            "Looking in indexes: https://pypi.org/simple, https://us-python.pkg.dev/colab-wheels/public/simple/\n",
            "Collecting gym==0.10.5\n",
            "  Downloading gym-0.10.5.tar.gz (1.5 MB)\n",
            "\u001b[2K     \u001b[90m━━━━━━━━━━━━━━━━━━━━━━━━━━━━━━━━━━━━━━━━\u001b[0m \u001b[32m1.5/1.5 MB\u001b[0m \u001b[31m16.9 MB/s\u001b[0m eta \u001b[36m0:00:00\u001b[0m\n",
            "\u001b[?25h  Preparing metadata (setup.py) ... \u001b[?25l\u001b[?25hdone\n",
            "Requirement already satisfied: numpy>=1.10.4 in /usr/local/lib/python3.8/dist-packages (from gym==0.10.5) (1.22.4)\n",
            "Requirement already satisfied: requests>=2.0 in /usr/local/lib/python3.8/dist-packages (from gym==0.10.5) (2.25.1)\n",
            "Requirement already satisfied: six in /usr/local/lib/python3.8/dist-packages (from gym==0.10.5) (1.15.0)\n",
            "Collecting pyglet>=1.2.0\n",
            "  Downloading pyglet-2.0.5-py3-none-any.whl (831 kB)\n",
            "\u001b[2K     \u001b[90m━━━━━━━━━━━━━━━━━━━━━━━━━━━━━━━━━━━━━━\u001b[0m \u001b[32m831.3/831.3 KB\u001b[0m \u001b[31m27.9 MB/s\u001b[0m eta \u001b[36m0:00:00\u001b[0m\n",
            "\u001b[?25hRequirement already satisfied: urllib3<1.27,>=1.21.1 in /usr/local/lib/python3.8/dist-packages (from requests>=2.0->gym==0.10.5) (1.26.14)\n",
            "Requirement already satisfied: idna<3,>=2.5 in /usr/local/lib/python3.8/dist-packages (from requests>=2.0->gym==0.10.5) (2.10)\n",
            "Requirement already satisfied: chardet<5,>=3.0.2 in /usr/local/lib/python3.8/dist-packages (from requests>=2.0->gym==0.10.5) (4.0.0)\n",
            "Requirement already satisfied: certifi>=2017.4.17 in /usr/local/lib/python3.8/dist-packages (from requests>=2.0->gym==0.10.5) (2022.12.7)\n",
            "Building wheels for collected packages: gym\n",
            "  Building wheel for gym (setup.py) ... \u001b[?25l\u001b[?25hdone\n",
            "  Created wheel for gym: filename=gym-0.10.5-py3-none-any.whl size=1581305 sha256=c6214777ef305617cbcfa0839391bcc9e921b1d948903d210d347ac816c3b875\n",
            "  Stored in directory: /root/.cache/pip/wheels/56/48/eb/1fd17ddd8c211b39359b092e94d05a4977c2e52bcf2a2024db\n",
            "Successfully built gym\n",
            "Installing collected packages: pyglet, gym\n",
            "  Attempting uninstall: gym\n",
            "    Found existing installation: gym 0.25.2\n",
            "    Uninstalling gym-0.25.2:\n",
            "      Successfully uninstalled gym-0.25.2\n",
            "Successfully installed gym-0.10.5 pyglet-2.0.5\n"
          ]
        }
      ]
    },
    {
      "cell_type": "code",
      "source": [
        "# just to prevent pygame window opening\n",
        "import os\n",
        "os.environ['SDL_VIDEODRIVER']='dummy'\n",
        "import pygame\n",
        "pygame.display.set_mode((640,480))"
      ],
      "metadata": {
        "colab": {
          "base_uri": "https://localhost:8080/"
        },
        "id": "JgKN8O8RbzqL",
        "outputId": "2cc7014a-69eb-4fb7-f99e-77bd35ddf133"
      },
      "execution_count": 5,
      "outputs": [
        {
          "output_type": "stream",
          "name": "stdout",
          "text": [
            "pygame 2.2.0 (SDL 2.0.22, Python 3.8.10)\n",
            "Hello from the pygame community. https://www.pygame.org/contribute.html\n"
          ]
        },
        {
          "output_type": "execute_result",
          "data": {
            "text/plain": [
              "<Surface(640x480x32 SW)>"
            ]
          },
          "metadata": {},
          "execution_count": 5
        }
      ]
    },
    {
      "cell_type": "code",
      "source": [
        "!python ./Platform-Environment-agent/main.py\n"
      ],
      "metadata": {
        "colab": {
          "base_uri": "https://localhost:8080/"
        },
        "id": "OwQ6N_VhZWeH",
        "outputId": "037bd05c-3e04-47ed-8c04-2338e20cdcbf"
      },
      "execution_count": 6,
      "outputs": [
        {
          "output_type": "stream",
          "name": "stdout",
          "text": [
            "/usr/local/lib/python3.8/dist-packages/gym/envs/registration.py:14: PkgResourcesDeprecationWarning: Parameters to load are deprecated.  Call .resolve and .require separately.\n",
            "  result = entry_point.load(False)\n",
            "pygame 2.2.0 (SDL 2.0.22, Python 3.8.10)\n",
            "Hello from the pygame community. https://www.pygame.org/contribute.html\n",
            "*******observation space*************\n",
            "number of elements in the observation space (9,)\n",
            "highest values of observation space [1. 1. 1. 1. 1. 1. 1. 1. 1.]\n",
            "lowest values of observation space [0. 0. 0. 0. 0. 0. 0. 0. 0.]\n",
            "*******Action space*************\n",
            "number of actions 3\n",
            "highest values of parameter actions [30.] [720.] [430.]\n",
            "lowest values of parameter actions [0.] [0.] [0.]\n",
            "############################ Agent architecture ############################\n",
            "########################################################################\n",
            "########################################################################\n",
            "ModuleList(\n",
            "  (0): Linear(in_features=12, out_features=128, bias=True)\n",
            "  (1): LSTM(128, 128)\n",
            "  (2): Linear(in_features=128, out_features=128, bias=True)\n",
            "  (3): Linear(in_features=128, out_features=3, bias=True)\n",
            ")\n",
            "ModuleList(\n",
            "  (0): Linear(in_features=9, out_features=128, bias=True)\n",
            "  (1): Linear(in_features=128, out_features=3, bias=True)\n",
            ")\n",
            "############################ Training starts ############################\n",
            "########################################################################\n",
            "########################################################################\n",
            "ALSA lib confmisc.c:767:(parse_card) cannot find card '0'\n",
            "ALSA lib conf.c:4732:(_snd_config_evaluate) function snd_func_card_driver returned error: No such file or directory\n",
            "ALSA lib confmisc.c:392:(snd_func_concat) error evaluating strings\n",
            "ALSA lib conf.c:4732:(_snd_config_evaluate) function snd_func_concat returned error: No such file or directory\n",
            "ALSA lib confmisc.c:1246:(snd_func_refer) error evaluating name\n",
            "ALSA lib conf.c:4732:(_snd_config_evaluate) function snd_func_refer returned error: No such file or directory\n",
            "ALSA lib conf.c:5220:(snd_config_expand) Evaluate error: No such file or directory\n",
            "ALSA lib pcm.c:2642:(snd_pcm_open_noupdate) Unknown PCM default\n",
            "episode: 0/20000, score: 0.0533  || average score(last 100 episodes): 0.05330 \n",
            "episode: 100/20000, score: 0.0812  || average score(last 100 episodes): 0.15358 \n",
            "episode: 200/20000, score: 0.3041  || average score(last 100 episodes): 0.16035 \n",
            "episode: 300/20000, score: 0.2453  || average score(last 100 episodes): 0.19020 \n",
            "episode: 400/20000, score: 0.1389  || average score(last 100 episodes): 0.21287 \n",
            "episode: 500/20000, score: 0.2081  || average score(last 100 episodes): 0.25064 \n",
            "episode: 600/20000, score: 0.2800  || average score(last 100 episodes): 0.30198 \n",
            "episode: 700/20000, score: 0.2467  || average score(last 100 episodes): 0.38280 \n",
            "episode: 800/20000, score: 0.2471  || average score(last 100 episodes): 0.46683 \n",
            "episode: 900/20000, score: 0.8627  || average score(last 100 episodes): 0.52397 \n",
            "episode: 1000/20000, score: 1.0000  || average score(last 100 episodes): 0.80942 \n",
            "episode: 1100/20000, score: 1.0000  || average score(last 100 episodes): 0.97313 \n",
            "episode: 1200/20000, score: 0.7313  || average score(last 100 episodes): 0.91030 \n",
            "episode: 1300/20000, score: 1.0000  || average score(last 100 episodes): 0.90272 \n",
            "episode: 1400/20000, score: 1.0000  || average score(last 100 episodes): 0.96537 \n",
            "episode: 1500/20000, score: 1.0000  || average score(last 100 episodes): 0.90916 \n",
            "episode: 1600/20000, score: 1.0000  || average score(last 100 episodes): 0.92979 \n",
            "episode: 1700/20000, score: 0.9303  || average score(last 100 episodes): 0.94913 \n",
            "episode: 1800/20000, score: 1.0000  || average score(last 100 episodes): 0.97484 \n",
            "episode: 1900/20000, score: 1.0000  || average score(last 100 episodes): 0.96019 \n",
            "episode: 2000/20000, score: 1.0000  || average score(last 100 episodes): 0.96716 \n",
            "episode: 2100/20000, score: 1.0000  || average score(last 100 episodes): 0.96346 \n",
            "episode: 2200/20000, score: 1.0000  || average score(last 100 episodes): 0.92945 \n",
            "episode: 2300/20000, score: 1.0000  || average score(last 100 episodes): 0.93966 \n",
            "episode: 2400/20000, score: 1.0000  || average score(last 100 episodes): 0.95790 \n",
            "episode: 2500/20000, score: 0.9286  || average score(last 100 episodes): 0.94051 \n",
            "episode: 2600/20000, score: 1.0000  || average score(last 100 episodes): 0.97827 \n",
            "episode: 2700/20000, score: 0.9196  || average score(last 100 episodes): 0.95094 \n",
            "episode: 2800/20000, score: 1.0000  || average score(last 100 episodes): 0.93062 \n",
            "episode: 2900/20000, score: 1.0000  || average score(last 100 episodes): 0.87628 \n",
            "episode: 3000/20000, score: 1.0000  || average score(last 100 episodes): 0.95865 \n",
            "episode: 3100/20000, score: 1.0000  || average score(last 100 episodes): 0.92459 \n",
            "episode: 3200/20000, score: 0.8043  || average score(last 100 episodes): 0.98178 \n",
            "episode: 3300/20000, score: 1.0000  || average score(last 100 episodes): 0.95021 \n",
            "episode: 3400/20000, score: 1.0000  || average score(last 100 episodes): 0.92265 \n",
            "episode: 3500/20000, score: 0.9321  || average score(last 100 episodes): 0.93395 \n",
            "episode: 3600/20000, score: 1.0000  || average score(last 100 episodes): 0.94991 \n",
            "episode: 3700/20000, score: 1.0000  || average score(last 100 episodes): 0.95400 \n",
            "episode: 3800/20000, score: 1.0000  || average score(last 100 episodes): 0.94101 \n",
            "episode: 3900/20000, score: 0.9285  || average score(last 100 episodes): 0.91654 \n",
            "episode: 4000/20000, score: 1.0000  || average score(last 100 episodes): 0.98184 \n",
            "episode: 4100/20000, score: 1.0000  || average score(last 100 episodes): 0.96791 \n",
            "episode: 4200/20000, score: 1.0000  || average score(last 100 episodes): 0.90422 \n",
            "episode: 4300/20000, score: 1.0000  || average score(last 100 episodes): 0.94689 \n",
            "episode: 4400/20000, score: 1.0000  || average score(last 100 episodes): 0.98080 \n",
            "episode: 4500/20000, score: 1.0000  || average score(last 100 episodes): 0.97878 \n",
            "episode: 4600/20000, score: 1.0000  || average score(last 100 episodes): 0.97316 \n",
            "episode: 4700/20000, score: 1.0000  || average score(last 100 episodes): 0.96198 \n",
            "episode: 4800/20000, score: 1.0000  || average score(last 100 episodes): 0.96176 \n",
            "episode: 4900/20000, score: 1.0000  || average score(last 100 episodes): 0.95630 \n",
            "episode: 5000/20000, score: 0.2540  || average score(last 100 episodes): 0.97214 \n",
            "episode: 5100/20000, score: 1.0000  || average score(last 100 episodes): 0.92046 \n",
            "episode: 5200/20000, score: 0.2081  || average score(last 100 episodes): 0.86012 \n",
            "episode: 5300/20000, score: 1.0000  || average score(last 100 episodes): 0.88059 \n",
            "episode: 5400/20000, score: 1.0000  || average score(last 100 episodes): 0.97005 \n",
            "episode: 5500/20000, score: 1.0000  || average score(last 100 episodes): 0.86945 \n",
            "episode: 5600/20000, score: 1.0000  || average score(last 100 episodes): 0.94258 \n",
            "episode: 5700/20000, score: 1.0000  || average score(last 100 episodes): 0.98236 \n",
            "episode: 5800/20000, score: 1.0000  || average score(last 100 episodes): 0.96634 \n",
            "episode: 5900/20000, score: 1.0000  || average score(last 100 episodes): 0.96920 \n",
            "episode: 6000/20000, score: 1.0000  || average score(last 100 episodes): 0.96930 \n",
            "episode: 6100/20000, score: 1.0000  || average score(last 100 episodes): 0.95267 \n",
            "episode: 6200/20000, score: 1.0000  || average score(last 100 episodes): 0.97560 \n",
            "episode: 6300/20000, score: 1.0000  || average score(last 100 episodes): 0.97601 \n",
            "episode: 6400/20000, score: 1.0000  || average score(last 100 episodes): 0.96355 \n",
            "episode: 6500/20000, score: 1.0000  || average score(last 100 episodes): 0.96987 \n",
            "episode: 6600/20000, score: 1.0000  || average score(last 100 episodes): 0.94198 \n",
            "episode: 6700/20000, score: 1.0000  || average score(last 100 episodes): 0.97960 \n",
            "episode: 6800/20000, score: 1.0000  || average score(last 100 episodes): 0.95930 \n",
            "episode: 6900/20000, score: 1.0000  || average score(last 100 episodes): 0.95766 \n",
            "episode: 7000/20000, score: 1.0000  || average score(last 100 episodes): 0.96457 \n",
            "episode: 7100/20000, score: 1.0000  || average score(last 100 episodes): 0.97834 \n",
            "episode: 7200/20000, score: 1.0000  || average score(last 100 episodes): 0.97096 \n",
            "episode: 7300/20000, score: 1.0000  || average score(last 100 episodes): 0.95984 \n",
            "episode: 7400/20000, score: 1.0000  || average score(last 100 episodes): 0.99143 \n",
            "episode: 7500/20000, score: 1.0000  || average score(last 100 episodes): 0.98925 \n",
            "episode: 7600/20000, score: 1.0000  || average score(last 100 episodes): 0.96663 \n",
            "episode: 7700/20000, score: 1.0000  || average score(last 100 episodes): 0.98372 \n",
            "episode: 7800/20000, score: 1.0000  || average score(last 100 episodes): 0.99369 \n",
            "episode: 7900/20000, score: 1.0000  || average score(last 100 episodes): 0.87353 \n",
            "episode: 8000/20000, score: 1.0000  || average score(last 100 episodes): 0.90160 \n",
            "episode: 8100/20000, score: 1.0000  || average score(last 100 episodes): 0.98074 \n",
            "episode: 8200/20000, score: 1.0000  || average score(last 100 episodes): 0.94625 \n",
            "episode: 8300/20000, score: 1.0000  || average score(last 100 episodes): 0.96403 \n",
            "episode: 8400/20000, score: 1.0000  || average score(last 100 episodes): 0.95465 \n",
            "episode: 8500/20000, score: 0.7295  || average score(last 100 episodes): 0.95201 \n",
            "episode: 8600/20000, score: 0.9324  || average score(last 100 episodes): 0.92155 \n",
            "episode: 8700/20000, score: 1.0000  || average score(last 100 episodes): 0.95668 \n",
            "episode: 8800/20000, score: 1.0000  || average score(last 100 episodes): 0.93328 \n",
            "episode: 8900/20000, score: 1.0000  || average score(last 100 episodes): 0.97277 \n",
            "episode: 9000/20000, score: 1.0000  || average score(last 100 episodes): 0.96912 \n",
            "episode: 9100/20000, score: 0.8484  || average score(last 100 episodes): 0.97679 \n",
            "episode: 9200/20000, score: 1.0000  || average score(last 100 episodes): 0.97028 \n",
            "episode: 9300/20000, score: 0.9224  || average score(last 100 episodes): 0.95772 \n",
            "episode: 9400/20000, score: 1.0000  || average score(last 100 episodes): 0.91961 \n",
            "episode: 9500/20000, score: 1.0000  || average score(last 100 episodes): 0.96368 \n",
            "episode: 9600/20000, score: 1.0000  || average score(last 100 episodes): 0.98068 \n",
            "episode: 9700/20000, score: 1.0000  || average score(last 100 episodes): 0.96707 \n",
            "episode: 9800/20000, score: 0.4196  || average score(last 100 episodes): 0.93298 \n",
            "episode: 9900/20000, score: 1.0000  || average score(last 100 episodes): 0.94147 \n",
            "episode: 10000/20000, score: 1.0000  || average score(last 100 episodes): 0.96815 \n",
            "episode: 10100/20000, score: 1.0000  || average score(last 100 episodes): 0.98118 \n",
            "episode: 10200/20000, score: 0.2479  || average score(last 100 episodes): 0.96340 \n",
            "episode: 10300/20000, score: 1.0000  || average score(last 100 episodes): 0.97844 \n",
            "episode: 10400/20000, score: 1.0000  || average score(last 100 episodes): 0.93928 \n",
            "episode: 10500/20000, score: 1.0000  || average score(last 100 episodes): 0.98157 \n",
            "episode: 10600/20000, score: 1.0000  || average score(last 100 episodes): 0.96136 \n",
            "episode: 10700/20000, score: 1.0000  || average score(last 100 episodes): 0.96961 \n",
            "episode: 10800/20000, score: 1.0000  || average score(last 100 episodes): 0.96521 \n",
            "episode: 10900/20000, score: 1.0000  || average score(last 100 episodes): 0.96854 \n",
            "episode: 11000/20000, score: 1.0000  || average score(last 100 episodes): 0.96635 \n",
            "episode: 11100/20000, score: 1.0000  || average score(last 100 episodes): 0.96645 \n",
            "episode: 11200/20000, score: 1.0000  || average score(last 100 episodes): 0.98450 \n",
            "episode: 11300/20000, score: 0.2482  || average score(last 100 episodes): 0.92506 \n",
            "episode: 11400/20000, score: 1.0000  || average score(last 100 episodes): 0.60089 \n",
            "episode: 11500/20000, score: 1.0000  || average score(last 100 episodes): 0.98256 \n",
            "episode: 11600/20000, score: 1.0000  || average score(last 100 episodes): 0.97311 \n",
            "episode: 11700/20000, score: 1.0000  || average score(last 100 episodes): 0.94730 \n",
            "episode: 11800/20000, score: 1.0000  || average score(last 100 episodes): 0.95739 \n",
            "episode: 11900/20000, score: 1.0000  || average score(last 100 episodes): 0.97541 \n",
            "episode: 12000/20000, score: 1.0000  || average score(last 100 episodes): 0.98148 \n",
            "episode: 12100/20000, score: 1.0000  || average score(last 100 episodes): 0.98506 \n",
            "episode: 12200/20000, score: 0.7683  || average score(last 100 episodes): 0.97907 \n",
            "episode: 12300/20000, score: 1.0000  || average score(last 100 episodes): 0.95926 \n",
            "episode: 12400/20000, score: 1.0000  || average score(last 100 episodes): 0.97951 \n",
            "episode: 12500/20000, score: 0.9226  || average score(last 100 episodes): 0.91117 \n",
            "episode: 12600/20000, score: 1.0000  || average score(last 100 episodes): 0.90316 \n",
            "episode: 12700/20000, score: 1.0000  || average score(last 100 episodes): 0.96768 \n",
            "episode: 12800/20000, score: 1.0000  || average score(last 100 episodes): 0.98219 \n",
            "episode: 12900/20000, score: 1.0000  || average score(last 100 episodes): 0.96579 \n",
            "episode: 13000/20000, score: 1.0000  || average score(last 100 episodes): 0.97652 \n",
            "episode: 13100/20000, score: 1.0000  || average score(last 100 episodes): 0.98509 \n",
            "episode: 13200/20000, score: 1.0000  || average score(last 100 episodes): 0.97929 \n",
            "episode: 13300/20000, score: 1.0000  || average score(last 100 episodes): 0.99729 \n",
            "episode: 13400/20000, score: 1.0000  || average score(last 100 episodes): 0.97604 \n",
            "episode: 13500/20000, score: 1.0000  || average score(last 100 episodes): 0.96826 \n",
            "episode: 13600/20000, score: 1.0000  || average score(last 100 episodes): 0.97365 \n",
            "episode: 13700/20000, score: 0.9257  || average score(last 100 episodes): 0.98231 \n",
            "episode: 13800/20000, score: 1.0000  || average score(last 100 episodes): 0.93865 \n",
            "episode: 13900/20000, score: 1.0000  || average score(last 100 episodes): 0.96968 \n",
            "episode: 14000/20000, score: 1.0000  || average score(last 100 episodes): 0.97651 \n",
            "episode: 14100/20000, score: 0.0981  || average score(last 100 episodes): 0.89165 \n",
            "episode: 14200/20000, score: 1.0000  || average score(last 100 episodes): 0.90875 \n",
            "episode: 14300/20000, score: 1.0000  || average score(last 100 episodes): 0.95748 \n",
            "episode: 14400/20000, score: 1.0000  || average score(last 100 episodes): 0.98366 \n",
            "episode: 14500/20000, score: 0.7306  || average score(last 100 episodes): 0.95576 \n",
            "episode: 14600/20000, score: 1.0000  || average score(last 100 episodes): 0.97356 \n",
            "episode: 14700/20000, score: 1.0000  || average score(last 100 episodes): 0.96949 \n",
            "episode: 14800/20000, score: 1.0000  || average score(last 100 episodes): 0.98196 \n",
            "episode: 14900/20000, score: 1.0000  || average score(last 100 episodes): 0.97439 \n",
            "episode: 15000/20000, score: 1.0000  || average score(last 100 episodes): 0.98090 \n",
            "episode: 15100/20000, score: 1.0000  || average score(last 100 episodes): 0.94859 \n",
            "episode: 15200/20000, score: 1.0000  || average score(last 100 episodes): 0.97664 \n",
            "episode: 15300/20000, score: 1.0000  || average score(last 100 episodes): 0.90768 \n",
            "episode: 15400/20000, score: 1.0000  || average score(last 100 episodes): 0.89290 \n",
            "episode: 15500/20000, score: 0.3770  || average score(last 100 episodes): 0.59914 \n",
            "episode: 15600/20000, score: 0.5553  || average score(last 100 episodes): 0.89970 \n",
            "episode: 15700/20000, score: 1.0000  || average score(last 100 episodes): 0.96713 \n",
            "episode: 15800/20000, score: 1.0000  || average score(last 100 episodes): 0.97521 \n",
            "episode: 15900/20000, score: 1.0000  || average score(last 100 episodes): 0.95051 \n",
            "episode: 16000/20000, score: 0.5548  || average score(last 100 episodes): 0.96205 \n",
            "episode: 16100/20000, score: 1.0000  || average score(last 100 episodes): 0.92576 \n",
            "episode: 16200/20000, score: 1.0000  || average score(last 100 episodes): 0.94305 \n",
            "episode: 16300/20000, score: 0.2460  || average score(last 100 episodes): 0.90988 \n",
            "episode: 16400/20000, score: 0.6040  || average score(last 100 episodes): 0.91097 \n",
            "episode: 16500/20000, score: 1.0000  || average score(last 100 episodes): 0.91139 \n",
            "episode: 16600/20000, score: 0.7294  || average score(last 100 episodes): 0.92862 \n",
            "episode: 16700/20000, score: 1.0000  || average score(last 100 episodes): 0.85532 \n",
            "episode: 16800/20000, score: 1.0000  || average score(last 100 episodes): 0.94353 \n",
            "episode: 16900/20000, score: 1.0000  || average score(last 100 episodes): 0.92977 \n",
            "episode: 17000/20000, score: 1.0000  || average score(last 100 episodes): 0.95026 \n",
            "episode: 17100/20000, score: 1.0000  || average score(last 100 episodes): 0.90081 \n",
            "episode: 17200/20000, score: 1.0000  || average score(last 100 episodes): 0.92031 \n",
            "episode: 17300/20000, score: 1.0000  || average score(last 100 episodes): 0.95973 \n",
            "episode: 17400/20000, score: 1.0000  || average score(last 100 episodes): 0.87099 \n",
            "episode: 17500/20000, score: 1.0000  || average score(last 100 episodes): 0.83493 \n",
            "episode: 17600/20000, score: 1.0000  || average score(last 100 episodes): 0.91319 \n",
            "episode: 17700/20000, score: 0.0813  || average score(last 100 episodes): 0.83716 \n",
            "episode: 17800/20000, score: 1.0000  || average score(last 100 episodes): 0.94404 \n",
            "episode: 17900/20000, score: 1.0000  || average score(last 100 episodes): 0.92802 \n",
            "episode: 18000/20000, score: 1.0000  || average score(last 100 episodes): 0.94201 \n",
            "episode: 18100/20000, score: 1.0000  || average score(last 100 episodes): 0.92946 \n",
            "episode: 18200/20000, score: 1.0000  || average score(last 100 episodes): 0.85913 \n",
            "episode: 18300/20000, score: 1.0000  || average score(last 100 episodes): 0.96570 \n",
            "episode: 18400/20000, score: 0.9281  || average score(last 100 episodes): 0.95953 \n",
            "episode: 18500/20000, score: 1.0000  || average score(last 100 episodes): 0.97878 \n",
            "episode: 18600/20000, score: 1.0000  || average score(last 100 episodes): 0.96993 \n",
            "episode: 18700/20000, score: 1.0000  || average score(last 100 episodes): 0.96699 \n",
            "episode: 18800/20000, score: 1.0000  || average score(last 100 episodes): 0.95134 \n",
            "episode: 18900/20000, score: 1.0000  || average score(last 100 episodes): 0.99014 \n",
            "episode: 19000/20000, score: 1.0000  || average score(last 100 episodes): 0.94393 \n",
            "episode: 19100/20000, score: 1.0000  || average score(last 100 episodes): 0.96409 \n",
            "episode: 19200/20000, score: 1.0000  || average score(last 100 episodes): 0.98037 \n",
            "episode: 19300/20000, score: 1.0000  || average score(last 100 episodes): 0.95916 \n",
            "episode: 19400/20000, score: 1.0000  || average score(last 100 episodes): 0.92649 \n",
            "episode: 19500/20000, score: 1.0000  || average score(last 100 episodes): 0.93737 \n",
            "episode: 19600/20000, score: 1.0000  || average score(last 100 episodes): 0.91646 \n",
            "episode: 19700/20000, score: 0.7285  || average score(last 100 episodes): 0.91239 \n",
            "episode: 19800/20000, score: 1.0000  || average score(last 100 episodes): 0.95330 \n",
            "episode: 19900/20000, score: 1.0000  || average score(last 100 episodes): 0.90065 \n",
            "############################ Training stops ############################\n",
            "########################################################################\n",
            "########################################################################\n",
            "Average score over all episodes = 0.9163915408668607\n",
            "Average score (last 100 episodes) = 0.990037882461612\n",
            "############################ Evaluation begins ############################\n",
            "########################################################################\n",
            "########################################################################\n",
            "Perform Evaluation over 1000 episodes\n",
            "Average score::: 0.9970407039242436\n"
          ]
        }
      ]
    }
  ]
}